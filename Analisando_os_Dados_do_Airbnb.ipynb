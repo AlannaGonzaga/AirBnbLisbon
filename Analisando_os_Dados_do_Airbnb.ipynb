{
  "nbformat": 4,
  "nbformat_minor": 0,
  "metadata": {
    "colab": {
      "name": "Analisando os Dados do Airbnb.ipynb",
      "provenance": [],
      "collapsed_sections": [],
      "include_colab_link": true
    },
    "kernelspec": {
      "name": "python3",
      "display_name": "Python 3"
    }
  },
  "cells": [
    {
      "cell_type": "markdown",
      "metadata": {
        "id": "view-in-github",
        "colab_type": "text"
      },
      "source": [
        "<a href=\"https://colab.research.google.com/github/AlannaGonzaga/AirBnbLisbon/blob/main/Analisando_os_Dados_do_Airbnb.ipynb\" target=\"_parent\"><img src=\"https://colab.research.google.com/assets/colab-badge.svg\" alt=\"Open In Colab\"/></a>"
      ]
    },
    {
      "cell_type": "markdown",
      "metadata": {
        "id": "kLI0gJtzDGuQ"
      },
      "source": [
        "<img alt=\"Colaboratory logo\" width=\"15%\" src=\"https://raw.githubusercontent.com/carlosfab/escola-data-science/master/img/novo_logo_bg_claro.png\">\n",
        "\n",
        "#### **Data Science na Prática 3.0**\n",
        "*by [Alanna Gonzaga](https://github.com/AlannaGonzaga)*\n",
        "\n",
        "---\n",
        "\n",
        "# Análise dos Dados do Airbnb - *Lisboa*\n",
        "\n",
        "O [Airbnb](https://www.airbnb.com.br/) já é considerado como sendo a **maior empresa hoteleira da atualidade**. Ah, o detalhe é que ele **não possui nenhum hotel**!\n",
        "\n",
        "Conectando pessoas que querem viajar (e se hospedar) com anfitriões que querem alugar seus imóveis de maneira prática, o Airbnb fornece uma plataforma inovadora para tornar essa hospedagem alternativa.\n",
        "\n",
        "No final de 2018, a Startup fundada 10 anos atrás, já havia **hospedado mais de 300 milhões** de pessoas ao redor de todo o mundo, desafiando as redes hoteleiras tradicionais.\n",
        "\n",
        "Uma das iniciativas do Airbnb é disponibilizar dados do site, para algumas das principais cidades do mundo. Por meio do portal [Inside Airbnb](http://insideairbnb.com/get-the-data.html), é possível baixar uma grande quantidade de dados para desenvolver projetos e soluções de *Data Science*.\n",
        "\n",
        "<center><img alt=\"Analisando Airbnb\" width=\"10%\" src=\"https://www.area360.com.au/wp-content/uploads/2017/09/airbnb-logo.jpg\"></center>\n",
        "\n",
        "**Neste *notebook*, iremos analisar os dados referentes à cidade de Lisboa, e ver quais insights podem ser extraídos a partir de dados brutos.**"
      ]
    },
    {
      "cell_type": "markdown",
      "metadata": {
        "id": "UZyl4DNZYVK0"
      },
      "source": [
        "\n",
        "# Cheira Bem, Cheira a Lisboa !\n",
        "\n",
        "Lisboa é a deslumbrante capital de Portual e uma das cidades mais vibrantes e acolhedora da Europa. É muito fácil de gostar da cidade, sua luminosidade, monumentalidade dos edifícios históricos ligados aos Descobrimentos, o ambiente tradicional em bairros como Alfama, Graça, Mouraria ou Bairro Alto, os museus, os miradouros, o fado ...ahhh o Fado, não é só emocionante mas tambem divertido!\n",
        "\n",
        "Lisboa é a cidade europeia que regista a maior procura por turistas, com mais reservas de voos. Segue-se Paris, Amesterdão, Atenas, Roma, Madrid, Frankfurt, Viena, Barcelona e Londres.\n",
        "\n",
        "Os dados constam de um relatório do World Travel and Tourism Council (WTCC) e da consultora ForwardKeys, e referem-se aos bilhetes vendidos entre 1 e 14 de junho face a período homólogo. Apenas foram considerados os bilhetes que previam que os viajantes pernoitassem entre uma a 21 noites nos destinos.\n",
        "\n",
        "O cenário era diferente há um ano, com Londres a liderar o ranking, e Lisboa a surgir na nona posição.\n",
        "\n",
        "Segundo o estudo, a venda de bilhetes para voos na União Europeia caiu 84% na primeira metade de um junho, registando uma ligeira melhoria, depois da queda de 94% registada durante o mês de maio.\n",
        "\n",
        "O relatório aponta que as vendas de voos para o Reino Unido caíram 96% na primeira metade de junho, depois de afundarem 97% em maio.\n",
        "\n",
        "A WTCC é uma organização sediada em Londres que representa o setor privado global de viagens e turismo.\n",
        "\n",
        "O relatório elogia o esforço feito por Portugal nas medidas tomadas para o setor do turismo. “Portugal foi um dos primeiros países a estabelecer regras de higiene e protocolos de segurança para receber turistas e tem uma das principais taxas de testagem para controlar a transmissão” do vírus”, segundo o comunicado.\n",
        "\n",
        "“O sucesso de Portugal em atrair visitantes segue-se às medidas de segurança e sanitárias implementadas pelo Governo. Estas são, em linha com o nosso protocolo global, desenhadas para a retoma deste setor importante e assegurar a segurança nas viagens”, segundo a presidente da WTCC, Gloria Guevara, apontando que o destino já mereceu o selo da WTCC que premeia os destinos mais seguros.\n",
        "\n",
        "\n",
        "\n",
        "\n"
      ]
    },
    {
      "cell_type": "markdown",
      "metadata": {
        "id": "0zxQHhIUDF_2"
      },
      "source": [
        "## Obtenção dos Dados\n"
      ]
    },
    {
      "cell_type": "markdown",
      "metadata": {
        "id": "Yf3qDI0CYTpv"
      },
      "source": [
        "Neste notebook, iremos analisar os dados referentes à cidade de Lisboa, e ver quais insights podem ser extraídos a partir de dados brutos. Todos os dados utilizados aqui froam obtidos a partir do portal Inside Airbnb\n",
        "\n",
        "\n",
        "Para esta análise exploratória inicial, será baixado apenas o seguinte arquivo:\n",
        "\n",
        "'listings.csv' - *Summary information and metrics for listings in Lisbon (good for Visualization)"
      ]
    },
    {
      "cell_type": "code",
      "metadata": {
        "id": "Vhp2wMPgJ6zX"
      },
      "source": [
        "# importar os pacotes necessários\n",
        "import pandas as pd\n",
        "import matplotlib.pyplot as plt\n",
        "import seaborn as sns\n",
        "\n",
        "%matplotlib inline\n",
        "\n"
      ],
      "execution_count": null,
      "outputs": []
    },
    {
      "cell_type": "code",
      "metadata": {
        "id": "tUmoAT8DLQ5T"
      },
      "source": [
        "# importar o arquivo listings.csv para um DataFrame\n",
        "df = pd.read_csv()"
      ],
      "execution_count": null,
      "outputs": []
    },
    {
      "cell_type": "markdown",
      "metadata": {
        "id": "qb5By2nIMS6m"
      },
      "source": [
        "## Análise dos Dados\n"
      ]
    },
    {
      "cell_type": "markdown",
      "metadata": {
        "id": "RYgvuebKNg8-"
      },
      "source": [
        "**Dicionário das variáveis**\n",
        "\n",
        "* .id - Número de id gerado para identificar o imóvel\n",
        "* name - Nome da propriedade anunciada\n",
        "* host_id - Número de id do proprietário (anfitrião) da propriedade\n",
        "* host_name - Nome do anfitrião\n",
        "* neighbourhood_group - Esta coluna não contém nenhum valor válido\n",
        "* neighbourhood - Nome do bairro\n",
        "* latitude - Coordenada da latitude do imóvel\n",
        "* longitude - Coordenada da longitude do imóvel\n",
        "* room_type - Tipo de quarto que é oferecido\n",
        "* price - Preço em euros para alugar o imóvel\n",
        "* minimum_nights - Quantidade mínima de noites para reservar\n",
        "* number_of_reviews - Número de reviews que o imóvel possui\n",
        "* last_review - Data do último review\n",
        "* reviews_per_month - Quantidade de reviews por mês\n",
        "* calculated_host_listings_count - Quantidade de imóveis do mesmo anfitrião\n",
        "* availability_365 - Número de dias de disponibilidade de 365 dias..\n",
        "\n",
        "Antes de iniciar qualquer análise, vamos verificar a cara do nosso *dataset*, analisando as 5 primeiras entradas."
      ]
    },
    {
      "cell_type": "code",
      "metadata": {
        "id": "2iS_dae7YQtO"
      },
      "source": [
        "# mostrar as 5 primeiras entradas\n",
        "dados.head()"
      ],
      "execution_count": null,
      "outputs": []
    },
    {
      "cell_type": "markdown",
      "metadata": {
        "id": "6-B_qtEaYEd-"
      },
      "source": [
        "### **Q1. Quantos atributos (variáveis) e quantas entradas o nosso conjunto de dados possui? Quais os tipos das variáveis?**"
      ]
    },
    {
      "cell_type": "code",
      "metadata": {
        "id": "TFRK0tniLV-G"
      },
      "source": [
        "# identificar o volume de dados do DataFrame\n",
        "\n",
        "# verificar as 5 primeiras entradas do dataset\n"
      ],
      "execution_count": null,
      "outputs": []
    },
    {
      "cell_type": "markdown",
      "metadata": {
        "id": "yz1urSUGW9iE"
      },
      "source": [
        "### **Q2. Qual a porcentagem de valores ausentes no *dataset*?**"
      ]
    },
    {
      "cell_type": "code",
      "metadata": {
        "id": "plk2FjbCXOqP"
      },
      "source": [
        "# ordenar em ordem decrescente as variáveis por seus valores ausentes\n"
      ],
      "execution_count": null,
      "outputs": []
    },
    {
      "cell_type": "markdown",
      "metadata": {
        "id": "iHXvvHIxaoNc"
      },
      "source": [
        "### **Q3. Qual o tipo de distribuição das variáveis?** "
      ]
    },
    {
      "cell_type": "code",
      "metadata": {
        "id": "q2wWSfeRbmBo"
      },
      "source": [
        "# plotar o histograma das variáveis numéricas\n"
      ],
      "execution_count": null,
      "outputs": []
    },
    {
      "cell_type": "markdown",
      "metadata": {
        "id": "7x4aw1j5wNmn"
      },
      "source": [
        "### **Q4. Qual a média dos preços de aluguel?**"
      ]
    },
    {
      "cell_type": "code",
      "metadata": {
        "id": "ff-8gUahLk-C"
      },
      "source": [
        "# ver a média da coluna `price``\n"
      ],
      "execution_count": null,
      "outputs": []
    },
    {
      "cell_type": "markdown",
      "metadata": {
        "id": "IXn2oIo5qx-w"
      },
      "source": [
        "### **Q4. Qual a correlação existente entre as variáveis**"
      ]
    },
    {
      "cell_type": "code",
      "metadata": {
        "id": "x2ayzBajqxyd"
      },
      "source": [
        "# criar uma matriz de correlação\n",
        "\n",
        "# mostrar a matriz de correlação\n"
      ],
      "execution_count": null,
      "outputs": []
    },
    {
      "cell_type": "code",
      "metadata": {
        "id": "91UujDr6ueqE"
      },
      "source": [
        "# plotar um heatmap a partir das correlações\n"
      ],
      "execution_count": null,
      "outputs": []
    },
    {
      "cell_type": "markdown",
      "metadata": {
        "id": "7b6RMWpuHKN-"
      },
      "source": [
        "### **Q5. Qual o tipo de imóvel mais alugado no Airbnb?**"
      ]
    },
    {
      "cell_type": "code",
      "metadata": {
        "id": "ueLPNWvPHgfB"
      },
      "source": [
        "# mostrar a quantidade de cada tipo de imóvel disponível\n"
      ],
      "execution_count": null,
      "outputs": []
    },
    {
      "cell_type": "code",
      "metadata": {
        "id": "EvwoO-XAHhIm"
      },
      "source": [
        "# mostrar a porcentagem de cada tipo de imóvel disponível\n"
      ],
      "execution_count": null,
      "outputs": []
    },
    {
      "cell_type": "markdown",
      "metadata": {
        "id": "MFa5NbnLJMcd"
      },
      "source": [
        "### **Q6. Qual a localidade mais cara do dataset?**\n",
        "\n"
      ]
    },
    {
      "cell_type": "code",
      "metadata": {
        "id": "MD_xa143JZpi"
      },
      "source": [
        "# ver preços por bairros, na média\n"
      ],
      "execution_count": null,
      "outputs": []
    },
    {
      "cell_type": "code",
      "metadata": {
        "id": "UxVJqJ_3W59I"
      },
      "source": [
        "# plotar os imóveis pela latitude-longitude\n"
      ],
      "execution_count": null,
      "outputs": []
    },
    {
      "cell_type": "markdown",
      "metadata": {
        "id": "vTneAMRUYvr1"
      },
      "source": [
        "### **Q7. Qual é a média do mínimo de noites para aluguel (minimum_nights)?**"
      ]
    },
    {
      "cell_type": "code",
      "metadata": {
        "id": "_VzNhrEgY82N"
      },
      "source": [
        "# ver a média da coluna `minimum_nights``"
      ],
      "execution_count": null,
      "outputs": []
    },
    {
      "cell_type": "markdown",
      "metadata": {
        "id": "GkvAg623RjoR"
      },
      "source": [
        "## Conclusões\n"
      ]
    },
    {
      "cell_type": "markdown",
      "metadata": {
        "id": "rbZ3Hsy9Ypw8"
      },
      "source": [
        ""
      ]
    }
  ]
}